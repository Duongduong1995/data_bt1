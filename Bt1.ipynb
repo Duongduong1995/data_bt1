{
 "cells": [
  {
   "cell_type": "code",
   "execution_count": 1,
   "id": "1e19e0fe",
   "metadata": {},
   "outputs": [
    {
     "name": "stdout",
     "output_type": "stream",
     "text": [
      "22\n"
     ]
    },
    {
     "data": {
      "text/plain": [
       "int"
      ]
     },
     "execution_count": 1,
     "metadata": {},
     "output_type": "execute_result"
    }
   ],
   "source": [
    "x=22\n",
    "print(x)\n",
    "type(x)"
   ]
  },
  {
   "cell_type": "code",
   "execution_count": 2,
   "id": "18856241",
   "metadata": {},
   "outputs": [
    {
     "name": "stdout",
     "output_type": "stream",
     "text": [
      "15\n",
      "5\n",
      "50\n",
      "2.0\n"
     ]
    }
   ],
   "source": [
    "x=10\n",
    "a=x+5\n",
    "print(a)\n",
    "b=x-5\n",
    "print(b)\n",
    "c=x*5\n",
    "print(c)\n",
    "d=x/5\n",
    "print(d)"
   ]
  },
  {
   "cell_type": "code",
   "execution_count": 3,
   "id": "153846d5",
   "metadata": {},
   "outputs": [
    {
     "name": "stdout",
     "output_type": "stream",
     "text": [
      "11\n",
      "22\n"
     ]
    }
   ],
   "source": [
    "x=10\n",
    "x+=1\n",
    "print(x)\n",
    "x*=2\n",
    "print(x)"
   ]
  },
  {
   "cell_type": "code",
   "execution_count": 4,
   "id": "fe5e61d4",
   "metadata": {},
   "outputs": [
    {
     "name": "stdout",
     "output_type": "stream",
     "text": [
      "22.22\n"
     ]
    },
    {
     "data": {
      "text/plain": [
       "float"
      ]
     },
     "execution_count": 4,
     "metadata": {},
     "output_type": "execute_result"
    }
   ],
   "source": [
    "x=22.22\n",
    "print(x)\n",
    "type(x)"
   ]
  },
  {
   "cell_type": "code",
   "execution_count": 5,
   "id": "98af4d37",
   "metadata": {},
   "outputs": [
    {
     "name": "stdout",
     "output_type": "stream",
     "text": [
      "25.5\n",
      "15.5\n",
      "102.5\n",
      "4.1\n"
     ]
    }
   ],
   "source": [
    "x=20.5\n",
    "a=x+5\n",
    "print(a)\n",
    "b=x-5\n",
    "print(b)\n",
    "c=x*5\n",
    "print(c)\n",
    "d=x/5\n",
    "print(d)"
   ]
  },
  {
   "cell_type": "code",
   "execution_count": 6,
   "id": "ff1dae4a",
   "metadata": {},
   "outputs": [
    {
     "name": "stdout",
     "output_type": "stream",
     "text": [
      "21.5\n",
      "43.0\n"
     ]
    }
   ],
   "source": [
    "x=20.5\n",
    "x+=1\n",
    "print(x)\n",
    "x*=2\n",
    "print(x)"
   ]
  },
  {
   "cell_type": "code",
   "execution_count": 9,
   "id": "8f2c7813",
   "metadata": {},
   "outputs": [
    {
     "name": "stdout",
     "output_type": "stream",
     "text": [
      "False\n"
     ]
    },
    {
     "data": {
      "text/plain": [
       "int"
      ]
     },
     "execution_count": 9,
     "metadata": {},
     "output_type": "execute_result"
    }
   ],
   "source": [
    "t=2\n",
    "f=3\n",
    "print (t>f)\n",
    "type(t)\n",
    "type(f)"
   ]
  },
  {
   "cell_type": "code",
   "execution_count": 11,
   "id": "77db4346",
   "metadata": {},
   "outputs": [
    {
     "name": "stdout",
     "output_type": "stream",
     "text": [
      "True\n",
      "True\n",
      "True\n",
      "True\n"
     ]
    }
   ],
   "source": [
    "t=2\n",
    "f=3\n",
    "if t>1 and f>1: \n",
    "    print(True)\n",
    "else:\n",
    "    print(False)\n",
    "    \n",
    "if t>2 or f>2:\n",
    "    print(True)\n",
    "else:\n",
    "    print(False)\n",
    "    \n",
    "print (t is not f)\n",
    "\n",
    "if t!=f: \n",
    "    print(True)\n",
    "else:\n",
    "    print(False)\n"
   ]
  },
  {
   "cell_type": "code",
   "execution_count": 12,
   "id": "83a20bc9",
   "metadata": {},
   "outputs": [
    {
     "name": "stdout",
     "output_type": "stream",
     "text": [
      "hello world\n",
      "11\n",
      "jupyter\n",
      "7\n"
     ]
    }
   ],
   "source": [
    "s='hello world'\n",
    "u='jupyter'\n",
    "print(s)\n",
    "print(len(s))\n",
    "print(u)\n",
    "print(len(u))"
   ]
  },
  {
   "cell_type": "code",
   "execution_count": 13,
   "id": "80380992",
   "metadata": {},
   "outputs": [
    {
     "name": "stdout",
     "output_type": "stream",
     "text": [
      "hello worldjupyter\n",
      "18\n"
     ]
    }
   ],
   "source": [
    "su=s+u\n",
    "print(su)\n",
    "print(len(su))"
   ]
  },
  {
   "cell_type": "code",
   "execution_count": 29,
   "id": "9862e628",
   "metadata": {},
   "outputs": [
    {
     "name": "stdout",
     "output_type": "stream",
     "text": [
      "Hello worldjupyter\n",
      "HELLO WORLDJUPYTER\n",
      "hello worldjupyter\n",
      "DDhello worldjupyter\n",
      "  hello worldjupyter  \n",
      "hi worldjupyter\n",
      "hello world\n"
     ]
    }
   ],
   "source": [
    "su=s+u\n",
    "su2=su.capitalize()\n",
    "su3=su.upper()\n",
    "su4=su.lower()\n",
    "su5=su.rjust(20,\"D\")\n",
    "su6=su.center(22)\n",
    "su7=su.replace(\"hello\", \"hi\")\n",
    "su8=su.strip(\"jupyter\")\n",
    "print(su2)\n",
    "print(su3)\n",
    "print(su4)\n",
    "print(su5)\n",
    "print(su6)\n",
    "print(su7)\n",
    "print(su8)"
   ]
  },
  {
   "cell_type": "code",
   "execution_count": 33,
   "id": "458f0ca1",
   "metadata": {},
   "outputs": [
    {
     "name": "stdout",
     "output_type": "stream",
     "text": [
      "r\n",
      "e\n"
     ]
    }
   ],
   "source": [
    "xs=['t', 'r', 'a', 'n', 'g', 'u', 'y', 'e']\n",
    "print(xs[1])\n",
    "print(xs[-1])"
   ]
  },
  {
   "cell_type": "code",
   "execution_count": 34,
   "id": "15bd7b1b",
   "metadata": {},
   "outputs": [
    {
     "name": "stdout",
     "output_type": "stream",
     "text": [
      "['t', 'r', 'd', 'n', 'g', 'u', 'y', 'e']\n"
     ]
    }
   ],
   "source": [
    "xs[2]='d'\n",
    "print(xs)"
   ]
  },
  {
   "cell_type": "code",
   "execution_count": 35,
   "id": "5b438c0e",
   "metadata": {},
   "outputs": [
    {
     "name": "stdout",
     "output_type": "stream",
     "text": [
      "['t', 'r', 'd', 'n', 'g', 'u', 'y', 'e', 'u']\n"
     ]
    }
   ],
   "source": [
    "xs.append(\"u\")\n",
    "print(xs)"
   ]
  },
  {
   "cell_type": "code",
   "execution_count": 36,
   "id": "2234ce9e",
   "metadata": {},
   "outputs": [
    {
     "name": "stdout",
     "output_type": "stream",
     "text": [
      "['t', 'r', 'd', 'n', 'g', 'u', 'y', 'e']\n"
     ]
    }
   ],
   "source": [
    "xs.pop(-1)\n",
    "print(xs)"
   ]
  },
  {
   "cell_type": "code",
   "execution_count": 53,
   "id": "7485beb2",
   "metadata": {},
   "outputs": [
    {
     "name": "stdout",
     "output_type": "stream",
     "text": [
      "['u', 'o', 'n']\n",
      "['u', 'o', 'n', 'g']\n",
      "['d', 'u', 'o']\n",
      "['d', 'u', 'o', 'n', 'g']\n",
      "['d', 't', 'r', 'a', 'g']\n"
     ]
    }
   ],
   "source": [
    "l=[\"d\", \"u\", \"o\", \"n\", \"g\"]\n",
    "print(l[1:4])\n",
    "print(l[1:])\n",
    "print(l[:3])\n",
    "print(l)\n",
    "l[1:4]='t', 'r', 'a'\n",
    "print(l)"
   ]
  },
  {
   "cell_type": "code",
   "execution_count": 58,
   "id": "7ea5b030",
   "metadata": {},
   "outputs": [
    {
     "name": "stdout",
     "output_type": "stream",
     "text": [
      "d\n",
      "u\n",
      "o\n",
      "n\n",
      "g\n"
     ]
    }
   ],
   "source": [
    "l=[\"d\", \"u\", \"o\", \"n\", \"g\"]\n",
    "for i in range(len(l)):\n",
    "    print(l[i])"
   ]
  },
  {
   "cell_type": "code",
   "execution_count": 59,
   "id": "7ca96446",
   "metadata": {},
   "outputs": [
    {
     "name": "stdout",
     "output_type": "stream",
     "text": [
      "0 d\n",
      "1 u\n",
      "2 o\n",
      "3 n\n",
      "4 g\n"
     ]
    }
   ],
   "source": [
    "l=[\"d\", \"u\", \"o\", \"n\", \"g\"]\n",
    "for x, y in enumerate(l):\n",
    "    print(x, y)"
   ]
  },
  {
   "cell_type": "code",
   "execution_count": 87,
   "id": "7e5d0937",
   "metadata": {},
   "outputs": [
    {
     "name": "stdout",
     "output_type": "stream",
     "text": [
      "[0, 2, 4, 6, 8]\n"
     ]
    }
   ],
   "source": [
    "nums=[0, 1, 2, 3, 4]\n",
    "squares=[]\n",
    "for i in nums:\n",
    "    squares.append(i*2)\n",
    "print(squares)"
   ]
  },
  {
   "cell_type": "code",
   "execution_count": 88,
   "id": "58b27dfb",
   "metadata": {},
   "outputs": [
    {
     "name": "stdout",
     "output_type": "stream",
     "text": [
      "[0, 2, 4, 6, 8]\n"
     ]
    }
   ],
   "source": [
    "nums=[0, 1, 2, 3, 4]\n",
    "squares=[i*2 for i in nums]\n",
    "print(squares)"
   ]
  },
  {
   "cell_type": "code",
   "execution_count": 90,
   "id": "fb981cc0",
   "metadata": {},
   "outputs": [
    {
     "name": "stdout",
     "output_type": "stream",
     "text": [
      "[0, 2, 4]\n"
     ]
    }
   ],
   "source": [
    "nums=[0, 1, 2, 3, 4]\n",
    "even_squares = [i for i in nums if i % 2 == 0]\n",
    "print(even_squares)"
   ]
  },
  {
   "cell_type": "code",
   "execution_count": 93,
   "id": "8db5d2d8",
   "metadata": {},
   "outputs": [
    {
     "name": "stdout",
     "output_type": "stream",
     "text": [
      "1\n",
      "True\n"
     ]
    }
   ],
   "source": [
    "L={'one': 1, 'two': 2}\n",
    "print(L[\"one\"])\n",
    "if 'two' in L.keys():\n",
    "    print(True)\n",
    "else: \n",
    "    print(False)"
   ]
  },
  {
   "cell_type": "code",
   "execution_count": 97,
   "id": "54ae63d6",
   "metadata": {},
   "outputs": [
    {
     "name": "stdout",
     "output_type": "stream",
     "text": [
      "{'one': 1, 'two': 2, 'three': 3}\n"
     ]
    }
   ],
   "source": [
    "L.update({'three':3})\n",
    "print(L)"
   ]
  },
  {
   "cell_type": "code",
   "execution_count": 103,
   "id": "e8a09130",
   "metadata": {},
   "outputs": [
    {
     "name": "stdout",
     "output_type": "stream",
     "text": [
      "{'one': 1, 'two': 2}\n"
     ]
    }
   ],
   "source": [
    "L.pop(\"three\", None)\n",
    "print(L)"
   ]
  },
  {
   "cell_type": "code",
   "execution_count": 109,
   "id": "00b45ae2",
   "metadata": {},
   "outputs": [
    {
     "name": "stdout",
     "output_type": "stream",
     "text": [
      "one 1\n",
      "two 2\n",
      "one 1\n",
      "two 2\n"
     ]
    }
   ],
   "source": [
    "for i in L:\n",
    "    print (i, L[i])\n",
    "for x, y in L.items():\n",
    "    print (x, y)"
   ]
  },
  {
   "cell_type": "code",
   "execution_count": 110,
   "id": "5eb0e698",
   "metadata": {},
   "outputs": [
    {
     "name": "stdout",
     "output_type": "stream",
     "text": [
      "{0: 0, 2: 4, 4: 8, 6: 12, 8: 16}\n"
     ]
    }
   ],
   "source": [
    "n=[0, 2, 4, 6, 8]\n",
    "n2=[i*2 for i in n]\n",
    "z=dict(zip(n, n2))\n",
    "print(z)"
   ]
  },
  {
   "cell_type": "code",
   "execution_count": 113,
   "id": "6134bd15",
   "metadata": {},
   "outputs": [
    {
     "name": "stdout",
     "output_type": "stream",
     "text": [
      "True\n",
      "False\n"
     ]
    }
   ],
   "source": [
    "s={\"A\", \"B\", \"C\"}\n",
    "print(\"A\" in s)\n",
    "print(\"D\" in s)"
   ]
  },
  {
   "cell_type": "code",
   "execution_count": 114,
   "id": "b17e9923",
   "metadata": {},
   "outputs": [
    {
     "name": "stdout",
     "output_type": "stream",
     "text": [
      "{'B', 'A', 'E', 'C'}\n"
     ]
    }
   ],
   "source": [
    "s.add(\"E\")\n",
    "print(s)"
   ]
  },
  {
   "cell_type": "code",
   "execution_count": 115,
   "id": "2b0d6088",
   "metadata": {},
   "outputs": [
    {
     "name": "stdout",
     "output_type": "stream",
     "text": [
      "{'A', 'E', 'C'}\n"
     ]
    }
   ],
   "source": [
    "s.remove(\"B\")\n",
    "print(s)"
   ]
  },
  {
   "cell_type": "code",
   "execution_count": 116,
   "id": "ba461823",
   "metadata": {},
   "outputs": [
    {
     "name": "stdout",
     "output_type": "stream",
     "text": [
      "0 A\n",
      "1 E\n",
      "2 C\n"
     ]
    }
   ],
   "source": [
    "for i, v in enumerate(s):\n",
    "    print(i, v)"
   ]
  },
  {
   "cell_type": "code",
   "execution_count": 120,
   "id": "405926e5",
   "metadata": {},
   "outputs": [
    {
     "name": "stdout",
     "output_type": "stream",
     "text": [
      "(1, 2, 5, 4)\n"
     ]
    }
   ],
   "source": [
    "t=(1, 2, 3, 4)\n",
    "l2=list(t)\n",
    "l2[2]=5\n",
    "t=tuple(l2)\n",
    "print(t)"
   ]
  },
  {
   "cell_type": "code",
   "execution_count": 125,
   "id": "419aec23",
   "metadata": {},
   "outputs": [
    {
     "name": "stdout",
     "output_type": "stream",
     "text": [
      "15\n"
     ]
    }
   ],
   "source": [
    "def sum_of_list(x):\n",
    "  tong = 0\n",
    "  for i in x:\n",
    "    tong = tong + i\n",
    "  return tong\n",
    "\n",
    "l3 = [1, 2, 3, 4, 5]\n",
    "print (sum_of_list(l3))"
   ]
  },
  {
   "cell_type": "code",
   "execution_count": 134,
   "id": "0458d6ed",
   "metadata": {},
   "outputs": [
    {
     "name": "stdout",
     "output_type": "stream",
     "text": [
      "Tao là quả gì?\n",
      "Le bi hu roi!\n"
     ]
    }
   ],
   "source": [
    "def tc(qua, x = \"là quả gì?\"):\n",
    "    print(qua +' '+ x)\n",
    "\n",
    "tc(\"Tao\")\n",
    "tc(\"Le\",\"bị hư rồi!\")"
   ]
  },
  {
   "cell_type": "code",
   "execution_count": null,
   "id": "869cd992",
   "metadata": {},
   "outputs": [],
   "source": []
  }
 ],
 "metadata": {
  "kernelspec": {
   "display_name": "Python 3 (ipykernel)",
   "language": "python",
   "name": "python3"
  },
  "language_info": {
   "codemirror_mode": {
    "name": "ipython",
    "version": 3
   },
   "file_extension": ".py",
   "mimetype": "text/x-python",
   "name": "python",
   "nbconvert_exporter": "python",
   "pygments_lexer": "ipython3",
   "version": "3.8.13"
  }
 },
 "nbformat": 4,
 "nbformat_minor": 5
}
